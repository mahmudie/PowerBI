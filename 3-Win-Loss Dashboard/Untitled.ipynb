{
 "cells": [
  {
   "cell_type": "code",
   "execution_count": 181,
   "id": "f7f1f528",
   "metadata": {},
   "outputs": [],
   "source": [
    "# pip install powerbiclient"
   ]
  },
  {
   "cell_type": "code",
   "execution_count": 182,
   "id": "4aae955c",
   "metadata": {},
   "outputs": [],
   "source": [
    "import numpy as np\n",
    "import pandas as pd"
   ]
  },
  {
   "cell_type": "code",
   "execution_count": 183,
   "id": "24adfee8",
   "metadata": {},
   "outputs": [],
   "source": [
    "df_2021=pd.read_csv('School_Learning_Modalities__2020-2021.csv')\n",
    "df_2021['year']=2021"
   ]
  },
  {
   "cell_type": "code",
   "execution_count": 184,
   "id": "6fa9cec5",
   "metadata": {},
   "outputs": [],
   "source": [
    "df_2021.reset_index(inplace=True, drop=True)"
   ]
  },
  {
   "cell_type": "code",
   "execution_count": 185,
   "id": "37858a05",
   "metadata": {
    "scrolled": false
   },
   "outputs": [
    {
     "data": {
      "text/html": [
       "<div>\n",
       "<style scoped>\n",
       "    .dataframe tbody tr th:only-of-type {\n",
       "        vertical-align: middle;\n",
       "    }\n",
       "\n",
       "    .dataframe tbody tr th {\n",
       "        vertical-align: top;\n",
       "    }\n",
       "\n",
       "    .dataframe thead th {\n",
       "        text-align: right;\n",
       "    }\n",
       "</style>\n",
       "<table border=\"1\" class=\"dataframe\">\n",
       "  <thead>\n",
       "    <tr style=\"text-align: right;\">\n",
       "      <th></th>\n",
       "      <th>district_nces_id</th>\n",
       "      <th>district_name</th>\n",
       "      <th>week</th>\n",
       "      <th>learning_modality</th>\n",
       "      <th>operational_schools</th>\n",
       "      <th>student_count</th>\n",
       "      <th>city</th>\n",
       "      <th>state</th>\n",
       "      <th>zip_code</th>\n",
       "      <th>year</th>\n",
       "    </tr>\n",
       "  </thead>\n",
       "  <tbody>\n",
       "    <tr>\n",
       "      <th>0</th>\n",
       "      <td>100005</td>\n",
       "      <td>Albertville City</td>\n",
       "      <td>09/06/2020 12:00:00 AM</td>\n",
       "      <td>Hybrid</td>\n",
       "      <td>6</td>\n",
       "      <td>5824.0</td>\n",
       "      <td>Albertville</td>\n",
       "      <td>AL</td>\n",
       "      <td>35950</td>\n",
       "      <td>2021</td>\n",
       "    </tr>\n",
       "    <tr>\n",
       "      <th>1</th>\n",
       "      <td>100006</td>\n",
       "      <td>Marshall County</td>\n",
       "      <td>09/06/2020 12:00:00 AM</td>\n",
       "      <td>Remote</td>\n",
       "      <td>15</td>\n",
       "      <td>5764.0</td>\n",
       "      <td>Guntersville</td>\n",
       "      <td>AL</td>\n",
       "      <td>35976</td>\n",
       "      <td>2021</td>\n",
       "    </tr>\n",
       "    <tr>\n",
       "      <th>2</th>\n",
       "      <td>100007</td>\n",
       "      <td>Hoover City</td>\n",
       "      <td>09/06/2020 12:00:00 AM</td>\n",
       "      <td>Hybrid</td>\n",
       "      <td>18</td>\n",
       "      <td>14061.0</td>\n",
       "      <td>Hoover</td>\n",
       "      <td>AL</td>\n",
       "      <td>35243</td>\n",
       "      <td>2021</td>\n",
       "    </tr>\n",
       "    <tr>\n",
       "      <th>3</th>\n",
       "      <td>100008</td>\n",
       "      <td>Madison City</td>\n",
       "      <td>09/06/2020 12:00:00 AM</td>\n",
       "      <td>Remote</td>\n",
       "      <td>11</td>\n",
       "      <td>11695.0</td>\n",
       "      <td>Madison</td>\n",
       "      <td>AL</td>\n",
       "      <td>35758</td>\n",
       "      <td>2021</td>\n",
       "    </tr>\n",
       "    <tr>\n",
       "      <th>4</th>\n",
       "      <td>100011</td>\n",
       "      <td>Leeds City</td>\n",
       "      <td>09/06/2020 12:00:00 AM</td>\n",
       "      <td>In Person</td>\n",
       "      <td>4</td>\n",
       "      <td>2076.0</td>\n",
       "      <td>Leeds</td>\n",
       "      <td>AL</td>\n",
       "      <td>35094</td>\n",
       "      <td>2021</td>\n",
       "    </tr>\n",
       "  </tbody>\n",
       "</table>\n",
       "</div>"
      ],
      "text/plain": [
       "   district_nces_id     district_name                    week  \\\n",
       "0            100005  Albertville City  09/06/2020 12:00:00 AM   \n",
       "1            100006   Marshall County  09/06/2020 12:00:00 AM   \n",
       "2            100007       Hoover City  09/06/2020 12:00:00 AM   \n",
       "3            100008      Madison City  09/06/2020 12:00:00 AM   \n",
       "4            100011        Leeds City  09/06/2020 12:00:00 AM   \n",
       "\n",
       "  learning_modality  operational_schools  student_count          city state  \\\n",
       "0            Hybrid                    6         5824.0   Albertville    AL   \n",
       "1            Remote                   15         5764.0  Guntersville    AL   \n",
       "2            Hybrid                   18        14061.0        Hoover    AL   \n",
       "3            Remote                   11        11695.0       Madison    AL   \n",
       "4         In Person                    4         2076.0         Leeds    AL   \n",
       "\n",
       "   zip_code  year  \n",
       "0     35950  2021  \n",
       "1     35976  2021  \n",
       "2     35243  2021  \n",
       "3     35758  2021  \n",
       "4     35094  2021  "
      ]
     },
     "execution_count": 185,
     "metadata": {},
     "output_type": "execute_result"
    }
   ],
   "source": [
    "df_2021.head()"
   ]
  },
  {
   "cell_type": "code",
   "execution_count": null,
   "id": "43e906a6",
   "metadata": {},
   "outputs": [],
   "source": []
  },
  {
   "cell_type": "code",
   "execution_count": 186,
   "id": "8f0344b8",
   "metadata": {},
   "outputs": [],
   "source": [
    "df_2022=pd.read_csv('School_Learning_Modalities__2021-2022.csv')"
   ]
  },
  {
   "cell_type": "code",
   "execution_count": 187,
   "id": "0bd7ec84",
   "metadata": {
    "scrolled": true
   },
   "outputs": [
    {
     "data": {
      "text/html": [
       "<div>\n",
       "<style scoped>\n",
       "    .dataframe tbody tr th:only-of-type {\n",
       "        vertical-align: middle;\n",
       "    }\n",
       "\n",
       "    .dataframe tbody tr th {\n",
       "        vertical-align: top;\n",
       "    }\n",
       "\n",
       "    .dataframe thead th {\n",
       "        text-align: right;\n",
       "    }\n",
       "</style>\n",
       "<table border=\"1\" class=\"dataframe\">\n",
       "  <thead>\n",
       "    <tr style=\"text-align: right;\">\n",
       "      <th></th>\n",
       "      <th>District NCES ID</th>\n",
       "      <th>District Name</th>\n",
       "      <th>Week</th>\n",
       "      <th>Learning Modality</th>\n",
       "      <th>Operational Schools</th>\n",
       "      <th>Student Count</th>\n",
       "      <th>City</th>\n",
       "      <th>State</th>\n",
       "      <th>ZIP Code</th>\n",
       "    </tr>\n",
       "  </thead>\n",
       "  <tbody>\n",
       "    <tr>\n",
       "      <th>0</th>\n",
       "      <td>100005</td>\n",
       "      <td>Albertville City</td>\n",
       "      <td>12/25/2022 12:00:00 AM</td>\n",
       "      <td>In Person</td>\n",
       "      <td>6</td>\n",
       "      <td>5824.0</td>\n",
       "      <td>Albertville</td>\n",
       "      <td>AL</td>\n",
       "      <td>35950</td>\n",
       "    </tr>\n",
       "    <tr>\n",
       "      <th>1</th>\n",
       "      <td>100006</td>\n",
       "      <td>Marshall County</td>\n",
       "      <td>12/25/2022 12:00:00 AM</td>\n",
       "      <td>In Person</td>\n",
       "      <td>15</td>\n",
       "      <td>5764.0</td>\n",
       "      <td>Guntersville</td>\n",
       "      <td>AL</td>\n",
       "      <td>35976</td>\n",
       "    </tr>\n",
       "    <tr>\n",
       "      <th>2</th>\n",
       "      <td>100007</td>\n",
       "      <td>Hoover City</td>\n",
       "      <td>12/25/2022 12:00:00 AM</td>\n",
       "      <td>In Person</td>\n",
       "      <td>18</td>\n",
       "      <td>14061.0</td>\n",
       "      <td>Hoover</td>\n",
       "      <td>AL</td>\n",
       "      <td>35243</td>\n",
       "    </tr>\n",
       "    <tr>\n",
       "      <th>3</th>\n",
       "      <td>100008</td>\n",
       "      <td>Madison City</td>\n",
       "      <td>12/25/2022 12:00:00 AM</td>\n",
       "      <td>In Person</td>\n",
       "      <td>11</td>\n",
       "      <td>11695.0</td>\n",
       "      <td>Madison</td>\n",
       "      <td>AL</td>\n",
       "      <td>35758</td>\n",
       "    </tr>\n",
       "    <tr>\n",
       "      <th>4</th>\n",
       "      <td>100011</td>\n",
       "      <td>Leeds City</td>\n",
       "      <td>12/25/2022 12:00:00 AM</td>\n",
       "      <td>In Person</td>\n",
       "      <td>4</td>\n",
       "      <td>2076.0</td>\n",
       "      <td>Leeds</td>\n",
       "      <td>AL</td>\n",
       "      <td>35094</td>\n",
       "    </tr>\n",
       "  </tbody>\n",
       "</table>\n",
       "</div>"
      ],
      "text/plain": [
       "   District NCES ID     District Name                    Week  \\\n",
       "0            100005  Albertville City  12/25/2022 12:00:00 AM   \n",
       "1            100006   Marshall County  12/25/2022 12:00:00 AM   \n",
       "2            100007       Hoover City  12/25/2022 12:00:00 AM   \n",
       "3            100008      Madison City  12/25/2022 12:00:00 AM   \n",
       "4            100011        Leeds City  12/25/2022 12:00:00 AM   \n",
       "\n",
       "  Learning Modality  Operational Schools  Student Count          City State  \\\n",
       "0         In Person                    6         5824.0   Albertville    AL   \n",
       "1         In Person                   15         5764.0  Guntersville    AL   \n",
       "2         In Person                   18        14061.0        Hoover    AL   \n",
       "3         In Person                   11        11695.0       Madison    AL   \n",
       "4         In Person                    4         2076.0         Leeds    AL   \n",
       "\n",
       "   ZIP Code  \n",
       "0     35950  \n",
       "1     35976  \n",
       "2     35243  \n",
       "3     35758  \n",
       "4     35094  "
      ]
     },
     "execution_count": 187,
     "metadata": {},
     "output_type": "execute_result"
    }
   ],
   "source": [
    "df_2022.head()"
   ]
  },
  {
   "cell_type": "code",
   "execution_count": 188,
   "id": "59956136",
   "metadata": {},
   "outputs": [],
   "source": [
    "# rename columns\n",
    "cols ={'District NCES ID':'district_nces_id','District Name':'district_name','Learning Modality':'learning_modality',\n",
    "      'Operational Schools':'operational_schools',\n",
    "       'Student Count':'student_count','City':'city','State':'state','ZIP Code':'zip_code','Week':'week'}"
   ]
  },
  {
   "cell_type": "code",
   "execution_count": 189,
   "id": "90fedc8c",
   "metadata": {},
   "outputs": [],
   "source": [
    "df_2022=df_2022.rename(columns=cols)\n",
    "df_2022['year']=2022"
   ]
  },
  {
   "cell_type": "code",
   "execution_count": 190,
   "id": "78b63639",
   "metadata": {},
   "outputs": [],
   "source": [
    "df_2022.reset_index(inplace=True, drop=True)"
   ]
  },
  {
   "cell_type": "code",
   "execution_count": 191,
   "id": "b50bdb11",
   "metadata": {
    "scrolled": false
   },
   "outputs": [
    {
     "data": {
      "text/html": [
       "<div>\n",
       "<style scoped>\n",
       "    .dataframe tbody tr th:only-of-type {\n",
       "        vertical-align: middle;\n",
       "    }\n",
       "\n",
       "    .dataframe tbody tr th {\n",
       "        vertical-align: top;\n",
       "    }\n",
       "\n",
       "    .dataframe thead th {\n",
       "        text-align: right;\n",
       "    }\n",
       "</style>\n",
       "<table border=\"1\" class=\"dataframe\">\n",
       "  <thead>\n",
       "    <tr style=\"text-align: right;\">\n",
       "      <th></th>\n",
       "      <th>district_nces_id</th>\n",
       "      <th>district_name</th>\n",
       "      <th>week</th>\n",
       "      <th>learning_modality</th>\n",
       "      <th>operational_schools</th>\n",
       "      <th>student_count</th>\n",
       "      <th>city</th>\n",
       "      <th>state</th>\n",
       "      <th>zip_code</th>\n",
       "      <th>year</th>\n",
       "    </tr>\n",
       "  </thead>\n",
       "  <tbody>\n",
       "    <tr>\n",
       "      <th>0</th>\n",
       "      <td>100005</td>\n",
       "      <td>Albertville City</td>\n",
       "      <td>12/25/2022 12:00:00 AM</td>\n",
       "      <td>In Person</td>\n",
       "      <td>6</td>\n",
       "      <td>5824.0</td>\n",
       "      <td>Albertville</td>\n",
       "      <td>AL</td>\n",
       "      <td>35950</td>\n",
       "      <td>2022</td>\n",
       "    </tr>\n",
       "    <tr>\n",
       "      <th>1</th>\n",
       "      <td>100006</td>\n",
       "      <td>Marshall County</td>\n",
       "      <td>12/25/2022 12:00:00 AM</td>\n",
       "      <td>In Person</td>\n",
       "      <td>15</td>\n",
       "      <td>5764.0</td>\n",
       "      <td>Guntersville</td>\n",
       "      <td>AL</td>\n",
       "      <td>35976</td>\n",
       "      <td>2022</td>\n",
       "    </tr>\n",
       "    <tr>\n",
       "      <th>2</th>\n",
       "      <td>100007</td>\n",
       "      <td>Hoover City</td>\n",
       "      <td>12/25/2022 12:00:00 AM</td>\n",
       "      <td>In Person</td>\n",
       "      <td>18</td>\n",
       "      <td>14061.0</td>\n",
       "      <td>Hoover</td>\n",
       "      <td>AL</td>\n",
       "      <td>35243</td>\n",
       "      <td>2022</td>\n",
       "    </tr>\n",
       "    <tr>\n",
       "      <th>3</th>\n",
       "      <td>100008</td>\n",
       "      <td>Madison City</td>\n",
       "      <td>12/25/2022 12:00:00 AM</td>\n",
       "      <td>In Person</td>\n",
       "      <td>11</td>\n",
       "      <td>11695.0</td>\n",
       "      <td>Madison</td>\n",
       "      <td>AL</td>\n",
       "      <td>35758</td>\n",
       "      <td>2022</td>\n",
       "    </tr>\n",
       "    <tr>\n",
       "      <th>4</th>\n",
       "      <td>100011</td>\n",
       "      <td>Leeds City</td>\n",
       "      <td>12/25/2022 12:00:00 AM</td>\n",
       "      <td>In Person</td>\n",
       "      <td>4</td>\n",
       "      <td>2076.0</td>\n",
       "      <td>Leeds</td>\n",
       "      <td>AL</td>\n",
       "      <td>35094</td>\n",
       "      <td>2022</td>\n",
       "    </tr>\n",
       "  </tbody>\n",
       "</table>\n",
       "</div>"
      ],
      "text/plain": [
       "   district_nces_id     district_name                    week  \\\n",
       "0            100005  Albertville City  12/25/2022 12:00:00 AM   \n",
       "1            100006   Marshall County  12/25/2022 12:00:00 AM   \n",
       "2            100007       Hoover City  12/25/2022 12:00:00 AM   \n",
       "3            100008      Madison City  12/25/2022 12:00:00 AM   \n",
       "4            100011        Leeds City  12/25/2022 12:00:00 AM   \n",
       "\n",
       "  learning_modality  operational_schools  student_count          city state  \\\n",
       "0         In Person                    6         5824.0   Albertville    AL   \n",
       "1         In Person                   15         5764.0  Guntersville    AL   \n",
       "2         In Person                   18        14061.0        Hoover    AL   \n",
       "3         In Person                   11        11695.0       Madison    AL   \n",
       "4         In Person                    4         2076.0         Leeds    AL   \n",
       "\n",
       "   zip_code  year  \n",
       "0     35950  2022  \n",
       "1     35976  2022  \n",
       "2     35243  2022  \n",
       "3     35758  2022  \n",
       "4     35094  2022  "
      ]
     },
     "execution_count": 191,
     "metadata": {},
     "output_type": "execute_result"
    }
   ],
   "source": [
    "df_2022.head()"
   ]
  },
  {
   "cell_type": "code",
   "execution_count": 192,
   "id": "d46479da",
   "metadata": {},
   "outputs": [
    {
     "name": "stdout",
     "output_type": "stream",
     "text": [
      "(994788, 10)\n",
      "(429865, 10)\n"
     ]
    }
   ],
   "source": [
    "print(df_2022.shape)\n",
    "print(df_2021.shape)"
   ]
  },
  {
   "cell_type": "code",
   "execution_count": 196,
   "id": "290414ea",
   "metadata": {},
   "outputs": [],
   "source": [
    "df=df_2022"
   ]
  },
  {
   "cell_type": "code",
   "execution_count": 197,
   "id": "01cd6af7",
   "metadata": {
    "scrolled": true
   },
   "outputs": [
    {
     "data": {
      "text/html": [
       "<div>\n",
       "<style scoped>\n",
       "    .dataframe tbody tr th:only-of-type {\n",
       "        vertical-align: middle;\n",
       "    }\n",
       "\n",
       "    .dataframe tbody tr th {\n",
       "        vertical-align: top;\n",
       "    }\n",
       "\n",
       "    .dataframe thead th {\n",
       "        text-align: right;\n",
       "    }\n",
       "</style>\n",
       "<table border=\"1\" class=\"dataframe\">\n",
       "  <thead>\n",
       "    <tr style=\"text-align: right;\">\n",
       "      <th></th>\n",
       "      <th>district_nces_id</th>\n",
       "      <th>district_name</th>\n",
       "      <th>week</th>\n",
       "      <th>learning_modality</th>\n",
       "      <th>operational_schools</th>\n",
       "      <th>student_count</th>\n",
       "      <th>city</th>\n",
       "      <th>state</th>\n",
       "      <th>zip_code</th>\n",
       "      <th>year</th>\n",
       "    </tr>\n",
       "  </thead>\n",
       "  <tbody>\n",
       "    <tr>\n",
       "      <th>0</th>\n",
       "      <td>100005</td>\n",
       "      <td>Albertville City</td>\n",
       "      <td>12/25/2022 12:00:00 AM</td>\n",
       "      <td>In Person</td>\n",
       "      <td>6</td>\n",
       "      <td>5824.0</td>\n",
       "      <td>Albertville</td>\n",
       "      <td>AL</td>\n",
       "      <td>35950</td>\n",
       "      <td>2022</td>\n",
       "    </tr>\n",
       "    <tr>\n",
       "      <th>1</th>\n",
       "      <td>100006</td>\n",
       "      <td>Marshall County</td>\n",
       "      <td>12/25/2022 12:00:00 AM</td>\n",
       "      <td>In Person</td>\n",
       "      <td>15</td>\n",
       "      <td>5764.0</td>\n",
       "      <td>Guntersville</td>\n",
       "      <td>AL</td>\n",
       "      <td>35976</td>\n",
       "      <td>2022</td>\n",
       "    </tr>\n",
       "    <tr>\n",
       "      <th>2</th>\n",
       "      <td>100007</td>\n",
       "      <td>Hoover City</td>\n",
       "      <td>12/25/2022 12:00:00 AM</td>\n",
       "      <td>In Person</td>\n",
       "      <td>18</td>\n",
       "      <td>14061.0</td>\n",
       "      <td>Hoover</td>\n",
       "      <td>AL</td>\n",
       "      <td>35243</td>\n",
       "      <td>2022</td>\n",
       "    </tr>\n",
       "    <tr>\n",
       "      <th>3</th>\n",
       "      <td>100008</td>\n",
       "      <td>Madison City</td>\n",
       "      <td>12/25/2022 12:00:00 AM</td>\n",
       "      <td>In Person</td>\n",
       "      <td>11</td>\n",
       "      <td>11695.0</td>\n",
       "      <td>Madison</td>\n",
       "      <td>AL</td>\n",
       "      <td>35758</td>\n",
       "      <td>2022</td>\n",
       "    </tr>\n",
       "    <tr>\n",
       "      <th>4</th>\n",
       "      <td>100011</td>\n",
       "      <td>Leeds City</td>\n",
       "      <td>12/25/2022 12:00:00 AM</td>\n",
       "      <td>In Person</td>\n",
       "      <td>4</td>\n",
       "      <td>2076.0</td>\n",
       "      <td>Leeds</td>\n",
       "      <td>AL</td>\n",
       "      <td>35094</td>\n",
       "      <td>2022</td>\n",
       "    </tr>\n",
       "  </tbody>\n",
       "</table>\n",
       "</div>"
      ],
      "text/plain": [
       "   district_nces_id     district_name                    week  \\\n",
       "0            100005  Albertville City  12/25/2022 12:00:00 AM   \n",
       "1            100006   Marshall County  12/25/2022 12:00:00 AM   \n",
       "2            100007       Hoover City  12/25/2022 12:00:00 AM   \n",
       "3            100008      Madison City  12/25/2022 12:00:00 AM   \n",
       "4            100011        Leeds City  12/25/2022 12:00:00 AM   \n",
       "\n",
       "  learning_modality  operational_schools  student_count          city state  \\\n",
       "0         In Person                    6         5824.0   Albertville    AL   \n",
       "1         In Person                   15         5764.0  Guntersville    AL   \n",
       "2         In Person                   18        14061.0        Hoover    AL   \n",
       "3         In Person                   11        11695.0       Madison    AL   \n",
       "4         In Person                    4         2076.0         Leeds    AL   \n",
       "\n",
       "   zip_code  year  \n",
       "0     35950  2022  \n",
       "1     35976  2022  \n",
       "2     35243  2022  \n",
       "3     35758  2022  \n",
       "4     35094  2022  "
      ]
     },
     "execution_count": 197,
     "metadata": {},
     "output_type": "execute_result"
    }
   ],
   "source": [
    "df.head()"
   ]
  },
  {
   "cell_type": "code",
   "execution_count": 198,
   "id": "f877b5e0",
   "metadata": {},
   "outputs": [],
   "source": [
    "df.to_csv(\"School_Learning_Modalities.csv\")"
   ]
  },
  {
   "cell_type": "code",
   "execution_count": 176,
   "id": "58902eb1",
   "metadata": {},
   "outputs": [],
   "source": [
    "from powerbiclient import QuickVisualize, get_dataset_config,Report\n",
    "from powerbiclient.authentication import DeviceCodeLoginAuthentication"
   ]
  },
  {
   "cell_type": "code",
   "execution_count": 177,
   "id": "1549f289",
   "metadata": {
    "scrolled": false
   },
   "outputs": [
    {
     "name": "stdout",
     "output_type": "stream",
     "text": [
      "Performing device flow authentication. Please follow the instructions below.\n",
      "To sign in, use a web browser to open the page https://microsoft.com/devicelogin and enter the code GZVYV9GBZ to authenticate.\n",
      "\n",
      "Device flow authentication successfully completed.\n",
      "You are now logged in .\n",
      "\n",
      "The result should be passed only to trusted code in your notebook.\n"
     ]
    }
   ],
   "source": [
    "device_auth=DeviceCodeLoginAuthentication()"
   ]
  },
  {
   "cell_type": "code",
   "execution_count": 178,
   "id": "1bcb2c77",
   "metadata": {},
   "outputs": [],
   "source": [
    "PBI_visualize=QuickVisualize(get_dataset_config(df),auth=device_auth)"
   ]
  },
  {
   "cell_type": "code",
   "execution_count": 179,
   "id": "970f8211",
   "metadata": {},
   "outputs": [
    {
     "data": {
      "application/vnd.jupyter.widget-view+json": {
       "model_id": "b78f0d44b65443f38186713f6da56332",
       "version_major": 2,
       "version_minor": 0
      },
      "text/plain": [
       "QuickVisualize()"
      ]
     },
     "metadata": {},
     "output_type": "display_data"
    }
   ],
   "source": [
    "PBI_visualize"
   ]
  }
 ],
 "metadata": {
  "kernelspec": {
   "display_name": "Python 3 (ipykernel)",
   "language": "python",
   "name": "python3"
  },
  "language_info": {
   "codemirror_mode": {
    "name": "ipython",
    "version": 3
   },
   "file_extension": ".py",
   "mimetype": "text/x-python",
   "name": "python",
   "nbconvert_exporter": "python",
   "pygments_lexer": "ipython3",
   "version": "3.9.12"
  }
 },
 "nbformat": 4,
 "nbformat_minor": 5
}
